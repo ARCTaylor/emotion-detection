{
 "cells": [
  {
   "cell_type": "code",
   "execution_count": 157,
   "id": "d8ea3a43",
   "metadata": {},
   "outputs": [],
   "source": [
    "import os\n",
    "import csv\n",
    "import matplotlib.pyplot as plt\n",
    "import matplotlib.cm as cm\n",
    "import numpy as np\n",
    "import random as rand\n",
    "import cv2\n",
    "from IPython.display import clear_output"
   ]
  },
  {
   "cell_type": "code",
   "execution_count": 161,
   "id": "00ce587b",
   "metadata": {},
   "outputs": [],
   "source": [
    "dataPath = r\"C:\\Users\\Aiden\\OneDrive\\Documents\\Hackathon\\data\\train.csv\"\n",
    "headPath = r\"C:\\Users\\Aiden\\OneDrive\\Documents\\Hackathon\\data\\head.txt\"\n",
    "predictionsPath = r\"C:\\Users\\Aiden\\OneDrive\\Documents\\Hackathon\\data\\predictions.csv\"\n",
    "faceCascadePath = r\"C:\\Users\\Aiden\\OneDrive\\Documents\\Hackathon\\haarcascades\\haarcascade_face.xml\"\n",
    "eyesCascadePath = r\"C:\\Users\\Aiden\\OneDrive\\Documents\\Hackathon\\haarcascades\\haarcascade_eye.xml\"\n",
    "leftEyeCascadePath = r\"C:\\Users\\Aiden\\OneDrive\\Documents\\Hackathon\\haarcascades\\haarcascade_leftEye.xml\"\n",
    "rightEyeCascadePath = r\"C:\\Users\\Aiden\\OneDrive\\Documents\\Hackathon\\haarcascades\\haarcascade_rightEye.xml\"\n",
    "mouthCascadePath = r\"C:\\Users\\Aiden\\OneDrive\\Documents\\Hackathon\\haarcascades\\haarcascade_mouth.xml\"\n",
    "upscalePath = \"EDSR_x4.pb\"\n",
    "\n",
    "testPath = r\"C:\\Users\\Aiden\\Downloads\\testFace.jpg\"\n",
    "\n",
    "#0=Angry, 1=Disgust, 2=Fear, 3=Happy, 4=Sad, 5=Surprise, 6=Neutral\n",
    "validLabels = {\"0\": \"angry\", \"1\": \"disgust\", \"2\": \"fear\", \"3\": \"happy\", \"4\": \"sad\", \"5\": \"suprise\", \"6\": \"neutral\",\n",
    "                \"angry\": \"0\", \"disgust\": \"1\", \"fear\": \"2\", \"happy\": \"3\", \"sad\": \"4\", \"surprise\": \"5\", \"neutral\": \"6\"}\n",
    "\n",
    "imgW = 48\n",
    "imgH = 48\n",
    "\n",
    "\n",
    "\n",
    "def apply_coverEyes_filter(pixelData):\n",
    "    multichannel = np.stack((pixelData,)*3, axis=-1)\n",
    "    sr = cv2.dnn_superres.DnnSuperResImpl_create()\n",
    "    sr.readModel(upscalePath)\n",
    "    sr.setModel(\"edsr\",4)\n",
    "    upsampled = sr.upsample(multichannel)\n",
    "    eyeSnip = upsampled[20:120,:,0].astype(\"uint8\")\n",
    "\n",
    "    eyesCascade = cv2.CascadeClassifier(eyesCascadePath)\n",
    "    eyes = eyesCascade.detectMultiScale(eyeSnip, scaleFactor = 1.2, minNeighbors = 5)\n",
    "    \n",
    "    points = []\n",
    "    for (x,y,width,height) in eyes:\n",
    "        sx = x//4\n",
    "        sy = int(y+20)//4\n",
    "        sw = width//4\n",
    "        sh = height//4\n",
    "#         cv2.rectangle(pixelData, (sx,sy), (sx+sw,sy+sh), (255), 1)\n",
    "        points.append((sx + sw//2, 47-(sy + sh//2)))\n",
    "    \n",
    "    if(len(points) == 0 or len(points) > 2):\n",
    "        cv2.line(pixelData, (0, 15), (47, 15), (0), 10)\n",
    "    elif(len(points) == 1):\n",
    "        cv2.line(pixelData, (0, points[0][1]), (47, points[0][1]), (0), 10)\n",
    "    else:\n",
    "        m = (points[0][1]-points[1][1]) / (points[0][0] - points[1][0])\n",
    "        y1 = int(m*(-points[0][0]) + points[0][1])\n",
    "        y2 = int(m*(47-points[0][0]) + points[0][1])\n",
    "        cv2.line(pixelData, (0, 47-y1), (47, 47-y2), (0), 10)       \n",
    "        \n",
    "        \n",
    "def apply_coverMouth_filter(pixelData):\n",
    "    multichannel = np.stack((pixelData,)*3, axis=-1)\n",
    "    sr = cv2.dnn_superres.DnnSuperResImpl_create()\n",
    "    sr.readModel(upscalePath)\n",
    "    sr.setModel(\"edsr\",4)\n",
    "    upsampled = sr.upsample(multichannel)\n",
    "    mouthSnip = upsampled[80:180,:,0].astype(\"uint8\")\n",
    "\n",
    "    mouthCascade = cv2.CascadeClassifier(mouthCascadePath)\n",
    "    mouths = mouthCascade.detectMultiScale(mouthSnip, scaleFactor = 1.15, minNeighbors = 4)\n",
    "    \n",
    "    if(len(mouths) > 0):\n",
    "        (x,y,width,height) = mouths[-1]\n",
    "        sx = x//4\n",
    "        sy = int(y+80)//4\n",
    "        sw = width//4\n",
    "        sh = height//4\n",
    "        cv2.line(pixelData, (0, sy+sh//2), (47, sy+sh//2), (0), sh)\n",
    "    else:\n",
    "        cv2.line(pixelData, (0, 35), (47, 35), (0), 10)"
   ]
  },
  {
   "cell_type": "code",
   "execution_count": 162,
   "id": "fda5a6fc",
   "metadata": {
    "scrolled": false
   },
   "outputs": [
    {
     "data": {
      "image/png": "[encoded data removed]",
      "text/plain": [
       "<Figure size 432x288 with 1 Axes>"
      ]
     },
     "metadata": {
      "needs_background": "light"
     },
     "output_type": "display_data"
    },
    {
     "name": "stdout",
     "output_type": "stream",
     "text": [
      "Prediction: exit\n",
      "Saving at face 235\n"
     ]
    }
   ],
   "source": [
    "#'none', 'upside_down' 'cover_eyes', 'cover_mouth'\n",
    "FILTER = 'cover_mouth'\n",
    "\n",
    "#Read head file to know which face to start with\n",
    "with open(headPath, 'r+') as h:\n",
    "    \n",
    "    headIndex = int(h.readlines()[0])\n",
    "    startMsg = \"Starting\" if (headIndex==1) else \"Resuming\"\n",
    "    print(\"{} at face {}\".format(startMsg, headIndex))\n",
    "\n",
    "    #Main prediction loop\n",
    "    with open(dataPath, 'r') as f:\n",
    "        with open(predictionsPath, 'a') as out:\n",
    "            data = f.readlines()\n",
    "\n",
    "            loop = True\n",
    "            while(loop):\n",
    "                faceData = data[headIndex].strip(\"\\n\").split(',')\n",
    "                label = faceData[0]\n",
    "                pixels = faceData[1][1:-1].split(\" \")\n",
    "                pixelData = np.asarray(pixels).reshape(imgH, imgW).astype(\"uint8\")\n",
    "                \n",
    "                if(FILTER == 'cover_eyes'):\n",
    "                    apply_coverEyes_filter(pixelData)\n",
    "                elif(FILTER == 'upside_down'):\n",
    "                    pixelData = np.rot90(pixelData, k=2)\n",
    "                elif(FILTER == 'cover_mouth'):\n",
    "                    apply_coverMouth_filter(pixelData)\n",
    "                \n",
    "                plt.imshow(pixelData, cmap='gray')\n",
    "                plt.show()\n",
    "\n",
    "                prediction = input(\"Prediction: \").lower()\n",
    "                while(prediction not in validLabels and prediction != \"exit\"):\n",
    "                    prediction = input(\"Not a valid label. Prediction: \").lower()\n",
    "                loop = (prediction != \"exit\")\n",
    "                if(not loop): continue\n",
    "\n",
    "                predictionWrite = prediction if prediction.isdigit() else validLabels[prediction]\n",
    "                if(loop): predictionWrite += \", \"\n",
    "                out.write(predictionWrite)\n",
    "                \n",
    "                headIndex += 1\n",
    "                clear_output(wait=True)\n",
    "            \n",
    "            h.seek(0)\n",
    "            h.write(str(headIndex))\n",
    "            h.truncate()\n",
    "            print(\"Saving at face {}\".format(headIndex))\n",
    "    "
   ]
  },
  {
   "cell_type": "code",
   "execution_count": null,
   "id": "c0b97ad0",
   "metadata": {},
   "outputs": [],
   "source": [
    "## Reset Head\n",
    "confirm = input(\"Are you sure you want to reset the head? Type 'Reset Head' to confirm\\n\\n\")\n",
    "if(confirm == \"Reset Head\"):\n",
    "    with open(headPath, 'w') as f:\n",
    "        f.write(\"1\")\n",
    "        print(\"Head reset\")\n",
    "else:\n",
    "    print(\"Reset canceled\")\n",
    "    "
   ]
  },
  {
   "cell_type": "code",
   "execution_count": 45,
   "id": "8115dfe6",
   "metadata": {},
   "outputs": [
    {
     "name": "stdout",
     "output_type": "stream",
     "text": [
      "Are you sure you want to reset predictions? Type 'Reset Predictions' to confirm\n",
      "\n",
      "Reset Predictions\n",
      "Predictions reset\n"
     ]
    }
   ],
   "source": [
    "#Reset Predictions\n",
    "confirm = input(\"Are you sure you want to reset predictions? Type 'Reset Predictions' to confirm\\n\\n\")\n",
    "if(confirm == \"Reset Predictions\"):\n",
    "    with open(predictionsPath, 'w') as f:\n",
    "        print(\"Predictions reset\")\n",
    "else:\n",
    "    print(\"Reset canceled\")"
   ]
  },
  {
   "cell_type": "code",
   "execution_count": 46,
   "id": "6fbb8a49",
   "metadata": {},
   "outputs": [
    {
     "name": "stdout",
     "output_type": "stream",
     "text": [
      "Are you sure you want to shuffle training data? Type 'Shuffle Training Data' to confirm\n",
      "\n",
      "Shuffle Training Data\n",
      "Training data shuffled\n"
     ]
    }
   ],
   "source": [
    "#Shuffle Training Set\n",
    "confirm = input(\"Are you sure you want to shuffle training data? Type 'Shuffle Training Data' to confirm\\n\\n\")\n",
    "if(confirm == \"Shuffle Training Data\"):\n",
    "    with open(dataPath, 'r+') as f:\n",
    "        data = f.readlines()\n",
    "        rand.shuffle(data)\n",
    "        f.truncate(0)\n",
    "        [f.write(line) for line in data]\n",
    "        print(\"Training data shuffled\")\n",
    "else:\n",
    "    print(\"Shuffle canceled\")"
   ]
  },
  {
   "cell_type": "code",
   "execution_count": null,
   "id": "ed63aaec",
   "metadata": {},
   "outputs": [],
   "source": []
  }
 ],
 "metadata": {
  "kernelspec": {
   "display_name": "Python 3 (ipykernel)",
   "language": "python",
   "name": "python3"
  },
  "language_info": {
   "codemirror_mode": {
    "name": "ipython",
    "version": 3
   },
   "file_extension": ".py",
   "mimetype": "text/x-python",
   "name": "python",
   "nbconvert_exporter": "python",
   "pygments_lexer": "ipython3",
   "version": "3.9.12"
  }
 },
 "nbformat": 4,
 "nbformat_minor": 5
}
